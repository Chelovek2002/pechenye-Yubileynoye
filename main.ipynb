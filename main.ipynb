{
 "cells": [
  {
   "cell_type": "markdown",
   "source": [
    "## Imports"
   ],
   "metadata": {
    "collapsed": false
   }
  },
  {
   "cell_type": "code",
   "execution_count": 1,
   "metadata": {
    "collapsed": true
   },
   "outputs": [],
   "source": [
    "import numpy as np\n",
    "import pandas as pd\n",
    "from sklearn.feature_extraction.text import TfidfVectorizer"
   ]
  },
  {
   "cell_type": "markdown",
   "source": [
    "## Data"
   ],
   "metadata": {
    "collapsed": false
   }
  },
  {
   "cell_type": "code",
   "execution_count": 2,
   "outputs": [],
   "source": [
    "words_df = pd.read_csv('data/collage_words.csv').dropna()\n",
    "brandwise = words_df.groupby('Brand').agg(lambda x: \", \".join(x)).squeeze()\n",
    "\n",
    "categories_df = pd.read_csv('data/Categories.csv')\n",
    "categorywise = categories_df.groupby('Category').agg(lambda x: \", \".join(x)).squeeze()\n",
    "\n",
    "cars_df = pd.read_csv('data/country_brand.csv')"
   ],
   "metadata": {
    "collapsed": false
   }
  },
  {
   "cell_type": "markdown",
   "source": [
    "## Compute TF-IDF"
   ],
   "metadata": {
    "collapsed": false
   }
  },
  {
   "cell_type": "code",
   "execution_count": 7,
   "outputs": [],
   "source": [
    "vectorizer = TfidfVectorizer(max_df=0.95, min_df=0.05)\n",
    "brands_tfidf = vectorizer.fit_transform(brandwise.values).toarray()\n",
    "brands_tfidf_ids = np.flip(brands_tfidf.argsort(axis=1), axis=1)"
   ],
   "metadata": {
    "collapsed": false
   }
  },
  {
   "cell_type": "code",
   "execution_count": 14,
   "outputs": [
    {
     "data": {
      "text/plain": "                   abandoned     abbey   abdomen  ...       zoo   zoology  \\\nBrand                                             ...                       \nIrish Spring        0.011976  0.000000  0.022702  ...  0.000000  0.000000   \nTaco Bell           0.054957  0.000000  0.000000  ...  0.029207  0.029697   \nHot Topic           0.000000  0.020775  0.000000  ...  0.000000  0.000000   \nA and W Root Beer   0.087534  0.000000  0.000000  ...  0.019383  0.000000   \nFred Meyer          0.039967  0.037353  0.000000  ...  0.017700  0.000000   \n\n                       zoom  \nBrand                        \nIrish Spring       0.000000  \nTaco Bell          0.000000  \nHot Topic          0.015755  \nA and W Root Beer  0.000000  \nFred Meyer         0.000000  \n\n[5 rows x 2160 columns]",
      "text/html": "<div>\n<style scoped>\n    .dataframe tbody tr th:only-of-type {\n        vertical-align: middle;\n    }\n\n    .dataframe tbody tr th {\n        vertical-align: top;\n    }\n\n    .dataframe thead th {\n        text-align: right;\n    }\n</style>\n<table border=\"1\" class=\"dataframe\">\n  <thead>\n    <tr style=\"text-align: right;\">\n      <th></th>\n      <th>abandoned</th>\n      <th>abbey</th>\n      <th>abdomen</th>\n      <th>...</th>\n      <th>zoo</th>\n      <th>zoology</th>\n      <th>zoom</th>\n    </tr>\n    <tr>\n      <th>Brand</th>\n      <th></th>\n      <th></th>\n      <th></th>\n      <th></th>\n      <th></th>\n      <th></th>\n      <th></th>\n    </tr>\n  </thead>\n  <tbody>\n    <tr>\n      <th>Irish Spring</th>\n      <td>0.011976</td>\n      <td>0.000000</td>\n      <td>0.022702</td>\n      <td>...</td>\n      <td>0.000000</td>\n      <td>0.000000</td>\n      <td>0.000000</td>\n    </tr>\n    <tr>\n      <th>Taco Bell</th>\n      <td>0.054957</td>\n      <td>0.000000</td>\n      <td>0.000000</td>\n      <td>...</td>\n      <td>0.029207</td>\n      <td>0.029697</td>\n      <td>0.000000</td>\n    </tr>\n    <tr>\n      <th>Hot Topic</th>\n      <td>0.000000</td>\n      <td>0.020775</td>\n      <td>0.000000</td>\n      <td>...</td>\n      <td>0.000000</td>\n      <td>0.000000</td>\n      <td>0.015755</td>\n    </tr>\n    <tr>\n      <th>A and W Root Beer</th>\n      <td>0.087534</td>\n      <td>0.000000</td>\n      <td>0.000000</td>\n      <td>...</td>\n      <td>0.019383</td>\n      <td>0.000000</td>\n      <td>0.000000</td>\n    </tr>\n    <tr>\n      <th>Fred Meyer</th>\n      <td>0.039967</td>\n      <td>0.037353</td>\n      <td>0.000000</td>\n      <td>...</td>\n      <td>0.017700</td>\n      <td>0.000000</td>\n      <td>0.000000</td>\n    </tr>\n  </tbody>\n</table>\n<p>5 rows × 2160 columns</p>\n</div>"
     },
     "execution_count": 14,
     "metadata": {},
     "output_type": "execute_result"
    }
   ],
   "source": [
    "brands_tfidf_df = pd.DataFrame(brands_tfidf, columns=vectorizer.get_feature_names_out(), index=brandwise.index)\n",
    "brands_tfidf_df.sample(5)"
   ],
   "metadata": {
    "collapsed": false
   }
  }
 ],
 "metadata": {
  "kernelspec": {
   "display_name": "Python 3",
   "language": "python",
   "name": "python3"
  },
  "language_info": {
   "codemirror_mode": {
    "name": "ipython",
    "version": 2
   },
   "file_extension": ".py",
   "mimetype": "text/x-python",
   "name": "python",
   "nbconvert_exporter": "python",
   "pygments_lexer": "ipython2",
   "version": "2.7.6"
  }
 },
 "nbformat": 4,
 "nbformat_minor": 0
}
