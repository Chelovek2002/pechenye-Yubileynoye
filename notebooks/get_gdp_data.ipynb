{
 "cells": [
  {
   "cell_type": "code",
   "execution_count": 108,
   "metadata": {
    "collapsed": true
   },
   "outputs": [],
   "source": [
    "import numpy as np\n",
    "import pandas as pd"
   ]
  },
  {
   "cell_type": "code",
   "execution_count": 109,
   "outputs": [],
   "source": [
    "country_brand = pd.read_csv('../data/country_brand.csv')\n",
    "country_gdp = pd.read_csv('../data/country_gdp.csv').iloc[:,[2,4]].dropna()\n",
    "country_gdp.columns = ['country', 'gdp_per_capita']"
   ],
   "metadata": {
    "collapsed": false
   }
  },
  {
   "cell_type": "code",
   "execution_count": 110,
   "outputs": [],
   "source": [
    "replace_dict = {\n",
    "    'Czechia': 'Czech Republic',\n",
    "    'Egypt, Arab Rep.': 'Egypt',\n",
    "    'Korea, Rep.': 'Korea',\n",
    "    'Russian Federation': 'Russia',\n",
    "    'Slovak Republic': 'Slovakia',\n",
    "    'Turkiye': 'Turkey',\n",
    "    'United Kingdom': 'UK',\n",
    "    'United States': 'USA'\n",
    "}\n",
    "country_gdp = country_gdp.replace(replace_dict)"
   ],
   "metadata": {
    "collapsed": false
   }
  },
  {
   "cell_type": "code",
   "execution_count": 111,
   "outputs": [],
   "source": [
    "country_gdp_brand = country_gdp.merge(country_brand, on='country')\n",
    "country_gdp_brand.gdp_per_capita = np.floor(country_gdp_brand.gdp_per_capita.astype(float)).astype('int64')"
   ],
   "metadata": {
    "collapsed": false
   }
  },
  {
   "cell_type": "code",
   "execution_count": 112,
   "outputs": [],
   "source": [
    "cats = pd.read_csv('../data/Categories.csv').dropna()\n",
    "car_brands_list = cats.Brand[cats.Category == \"Cars\"].tolist()  # list of all car brands in the survey"
   ],
   "metadata": {
    "collapsed": false
   }
  },
  {
   "cell_type": "code",
   "execution_count": 113,
   "outputs": [],
   "source": [
    "country_gdp_brand.loc[country_gdp_brand['brand']=='Mercedes-Benz', 'brand'] = 'Mercedes Benz'\n",
    "country_gdp_brand.loc[country_gdp_brand['brand']=='Chrysler/Jeep', 'brand'] = 'Chrysler'\n",
    "country_gdp_brand.loc[country_gdp_brand['brand']=='Chevrolet/GMC', 'brand'] = 'Chevrolet'\n",
    "country_gdp_brand.loc[country_gdp_brand['brand']=='Opel/Chevrolet', 'brand'] = 'Opel'\n",
    "country_gdp_brand.loc[country_gdp_brand['brand']=='Hyundai/Inokom', 'brand'] = 'Hyundai'\n",
    "country_gdp_brand.loc[country_gdp_brand['brand']=='VW', 'brand'] = 'Volkswagen'\n",
    "country_gdp_brand.loc[country_gdp_brand['brand']=='Volvo Cars', 'brand'] = 'Volvo'\n",
    "\n",
    "country_gdp_brand = country_gdp_brand[country_gdp_brand.brand.isin(car_brands_list)]"
   ],
   "metadata": {
    "collapsed": false
   }
  },
  {
   "cell_type": "code",
   "execution_count": 114,
   "outputs": [],
   "source": [
    "country_gdp_brand.to_csv('../data/country_gdp_brand.csv', index=False)"
   ],
   "metadata": {
    "collapsed": false
   }
  },
  {
   "cell_type": "code",
   "execution_count": 115,
   "outputs": [
    {
     "data": {
      "text/plain": "29"
     },
     "execution_count": 115,
     "metadata": {},
     "output_type": "execute_result"
    }
   ],
   "source": [
    "len(car_brands_list)"
   ],
   "metadata": {
    "collapsed": false
   }
  },
  {
   "cell_type": "code",
   "execution_count": 116,
   "outputs": [
    {
     "data": {
      "text/plain": "{'Pontiac'}"
     },
     "execution_count": 116,
     "metadata": {},
     "output_type": "execute_result"
    }
   ],
   "source": [
    "set(car_brands_list).difference(country_gdp_brand.brand.unique())"
   ],
   "metadata": {
    "collapsed": false
   }
  }
 ],
 "metadata": {
  "kernelspec": {
   "display_name": "Python 3",
   "language": "python",
   "name": "python3"
  },
  "language_info": {
   "codemirror_mode": {
    "name": "ipython",
    "version": 2
   },
   "file_extension": ".py",
   "mimetype": "text/x-python",
   "name": "python",
   "nbconvert_exporter": "python",
   "pygments_lexer": "ipython2",
   "version": "2.7.6"
  }
 },
 "nbformat": 4,
 "nbformat_minor": 0
}
