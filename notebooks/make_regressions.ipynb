{
 "cells": [
  {
   "cell_type": "code",
   "execution_count": 1,
   "outputs": [],
   "source": [
    "from source.get_cars_data import country_brand as cars_sales"
   ],
   "metadata": {
    "collapsed": false
   }
  },
  {
   "cell_type": "code",
   "execution_count": null,
   "metadata": {
    "collapsed": true
   },
   "outputs": [],
   "source": [
    "cars_sales = cars_sales.replace({\n",
    "    'Mercedes-Benz': 'Mercedes Benz',\n",
    "    'Chrysler/Jeep': 'Chrysler',\n",
    "    'Chevrolet/GMC': 'Chevrolet',\n",
    "    'Opel/Chevrolet': 'Opel',\n",
    "    'Hyundai/Inokom': 'Hyundai',\n",
    "    'VW': 'Volkswagen',\n",
    "    'Volvo Cars': 'Volvo'\n",
    "})\n",
    "\n",
    "cars_sales = cars_sales[cars_sales.brand.isin(car_brands_list)]"
   ]
  }
 ],
 "metadata": {
  "kernelspec": {
   "display_name": "Python 3",
   "language": "python",
   "name": "python3"
  },
  "language_info": {
   "codemirror_mode": {
    "name": "ipython",
    "version": 2
   },
   "file_extension": ".py",
   "mimetype": "text/x-python",
   "name": "python",
   "nbconvert_exporter": "python",
   "pygments_lexer": "ipython2",
   "version": "2.7.6"
  }
 },
 "nbformat": 4,
 "nbformat_minor": 0
}
