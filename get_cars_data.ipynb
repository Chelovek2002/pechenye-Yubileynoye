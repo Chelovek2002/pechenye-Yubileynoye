{
 "cells": [
  {
   "cell_type": "code",
   "execution_count": 1,
   "metadata": {
    "collapsed": true
   },
   "outputs": [],
   "source": [
    "import pandas as pd"
   ]
  },
  {
   "cell_type": "code",
   "execution_count": null,
   "outputs": [],
   "source": [
    "rename_dict = {\n",
    "    'Country': 'country',\n",
    "    'Group': 'group',\n",
    "    'Type': 'type',\n",
    "    'Maker/Brand':'brand',\n",
    "    '2018': 'cars_sold'}\n",
    "\n",
    "df = (pd.read_html('data/cars_data.html')[0]\n",
    "      .dropna()\n",
    "      .rename(columns=rename_dict)\n",
    "      .astype({'cars_sold': 'int64'}))"
   ],
   "metadata": {
    "collapsed": false
   }
  },
  {
   "cell_type": "code",
   "execution_count": null,
   "outputs": [],
   "source": [
    "def get_country_brand_df(data: pd.DataFrame) -> pd.DataFrame:\n",
    "    country_brand = data[~data.brand.str.contains('Total')]\n",
    "    country_brand = country_brand[~country_brand.group.str.contains('Other')]\n",
    "\n",
    "    car_types = data.type.unique()\n",
    "    for car_type in car_types:\n",
    "        country_brand = country_brand[~country_brand.group.str.contains(car_type, regex=False)]\n",
    "\n",
    "    country_brand = (\n",
    "        country_brand\n",
    "        .loc[:, ['country', 'brand', 'cars_sold']]\n",
    "        .groupby(['country', 'brand'])\n",
    "        .sum()\n",
    "        .drop(index=['Uzbekistan', 'Belarus'])\n",
    "        .reset_index()\n",
    "    )\n",
    "\n",
    "    country_brand = country_brand[country_brand.cars_sold > 100]\n",
    "\n",
    "    return country_brand\n",
    "\n",
    "\n",
    "def get_country_total_df(country_brand: pd.DataFrame) -> pd.DataFrame:\n",
    "    country_total = (\n",
    "        country_brand\n",
    "        .loc[:, ['country', 'cars_sold']]\n",
    "        .groupby('country')\n",
    "        .sum()\n",
    "        .rename(columns={'cars_sold': 'country_total'})\n",
    "        .reset_index()\n",
    "    )\n",
    "\n",
    "    return country_total"
   ],
   "metadata": {
    "collapsed": false
   }
  },
  {
   "cell_type": "code",
   "execution_count": null,
   "outputs": [],
   "source": [
    "country_brand = get_country_brand_df(df)\n",
    "country_total = get_country_total_df(country_brand)"
   ],
   "metadata": {
    "collapsed": false
   }
  },
  {
   "cell_type": "code",
   "execution_count": null,
   "outputs": [],
   "source": [
    "car_brands_df = (country_brand.set_index('country')\n",
    "                 .join(country_total.set_index('country'))\n",
    "                 .reset_index()\n",
    "                 .assign(share=lambda x: x.cars_sold / x.country_total)\n",
    "                 )\n",
    "car_brands_df = car_brands_df[~car_brands_df.brand.str.contains('OEM')]"
   ],
   "metadata": {
    "collapsed": false
   }
  },
  {
   "cell_type": "code",
   "execution_count": null,
   "outputs": [],
   "source": [
    "car_brands_df.to_csv('country_brand.csv', index=False)"
   ],
   "metadata": {
    "collapsed": false
   }
  }
 ],
 "metadata": {
  "kernelspec": {
   "display_name": "Python 3",
   "language": "python",
   "name": "python3"
  },
  "language_info": {
   "codemirror_mode": {
    "name": "ipython",
    "version": 2
   },
   "file_extension": ".py",
   "mimetype": "text/x-python",
   "name": "python",
   "nbconvert_exporter": "python",
   "pygments_lexer": "ipython2",
   "version": "2.7.6"
  }
 },
 "nbformat": 4,
 "nbformat_minor": 0
}
